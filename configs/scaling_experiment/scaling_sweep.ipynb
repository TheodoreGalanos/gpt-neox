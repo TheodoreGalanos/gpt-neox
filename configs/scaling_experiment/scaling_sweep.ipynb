{
 "cells": [
  {
   "cell_type": "code",
   "execution_count": null,
   "metadata": {
    "id": "Obrq1E8wL37i"
   },
   "outputs": [],
   "source": [
    "! pip install wandb\n",
    "# grab @TheadoreGalanos's fork for config file\n",
    "! git clone https://github.com/TheodoreGalanos/gpt-neox/\n",
    "import wandb\n",
    "import pandas as pd"
   ]
  },
  {
   "cell_type": "code",
   "execution_count": null,
   "metadata": {
    "id": "dCVZqoc6MDCs"
   },
   "outputs": [],
   "source": [
    "# initialize config\n",
    "sweep_config = {\n",
    "  \"name\": \"Scaling laws sweep\",\n",
    "  \"method\": \"grid\",\n",
    "  \"parameters\": {\n",
    "    \"valid_set\": {\n",
    "        \"distribution\": \"categorical\",\n",
    "        'values': [\n",
    "          ### This will be a list of strings\n",
    "          ### with the following values:\n",
    "          ### n_layer, n_head, n_embd, head_state\n",
    "          ### separated by commas\n",
    "      ]\n",
    "    }\n",
    "  }\n",
    "}\n",
    "\n",
    "# read TG's config\n",
    "df = pd.read_csv(\n",
    "    './gpt-neox/configs/scaling_experiment/config_parameters.csv',\n",
    "    )\n",
    "\n",
    "# create strings for each row\n",
    "for i in range(len(df)):\n",
    "  sweep_config['parameters']['valid_set']['values'].append(\n",
    "      ','.join([str(df.iloc[i][x]) for x in df.columns])\n",
    "  )\n"
   ]
  },
  {
   "cell_type": "code",
   "execution_count": null,
   "metadata": {
    "id": "j1D3k39pPrp_"
   },
   "outputs": [],
   "source": [
    "# check source\n",
    "print(df)\n",
    "\n",
    "# and config\n",
    "sweep_config"
   ]
  },
  {
   "cell_type": "code",
   "execution_count": null,
   "metadata": {
    "id": "Ae4Edr-jMAYk"
   },
   "outputs": [],
   "source": [
    "# test run\n",
    "sweep_id = wandb.sweep(sweep_config)\n",
    "\n",
    "def train():\n",
    "    run = wandb.init()\n",
    "    print(run.config.valid_set)\n",
    "    exponent, n_layer, n_head, n_embd, head_state = run.config.valid_set.split(',')\n",
    "    print(exponent)\n",
    "    run.finish()\n",
    "\n",
    "sweep_id = wandb.sweep(sweep_config)\n",
    "agent = wandb.agent(sweep_id=sweep_id, function=train)\n",
    "agent.run()"
   ]
  }
 ],
 "metadata": {
  "colab": {
   "name": "scaling_sweep",
   "provenance": []
  },
  "kernelspec": {
   "display_name": "Python 3",
   "language": "python",
   "name": "python3"
  },
  "language_info": {
   "codemirror_mode": {
    "name": "ipython",
    "version": 3
   },
   "file_extension": ".py",
   "mimetype": "text/x-python",
   "name": "python",
   "nbconvert_exporter": "python",
   "pygments_lexer": "ipython3",
   "version": "3.8.2"
  },
  "toc": {
   "base_numbering": 1,
   "nav_menu": {},
   "number_sections": true,
   "sideBar": true,
   "skip_h1_title": false,
   "title_cell": "Table of Contents",
   "title_sidebar": "Contents",
   "toc_cell": false,
   "toc_position": {},
   "toc_section_display": true,
   "toc_window_display": false
  }
 },
 "nbformat": 4,
 "nbformat_minor": 1
}
