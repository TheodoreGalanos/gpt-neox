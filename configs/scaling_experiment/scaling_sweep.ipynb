{
  "nbformat": 4,
  "nbformat_minor": 0,
  "metadata": {
    "colab": {
      "name": "scaling_sweep",
      "provenance": []
    },
    "kernelspec": {
      "name": "python3",
      "display_name": "Python 3"
    },
    "language_info": {
      "name": "python"
    }
  },
  "cells": [
    {
      "cell_type": "code",
      "metadata": {
        "id": "Obrq1E8wL37i"
      },
      "source": [
        "! pip install wandb\n",
        "# grab @TheodoreGalanos's fork for config file\n",
        "! git clone https://github.com/TheodoreGalanos/gpt-neox/\n",
        "import wandb\n",
        "import pandas as pd\n",
        "import numpy as np"
      ],
      "execution_count": null,
      "outputs": []
    },
    {
      "cell_type": "code",
      "metadata": {
        "id": "dCVZqoc6MDCs"
      },
      "source": [
        "# initialize config\n",
        "sweep_config = {\n",
        "  \"name\": \"Scaling laws sweep\",\n",
        "  \"method\": \"grid\",\n",
        "  \"parameters\": {\n",
        "    \"valid_set\": {\n",
        "        \"distribution\": \"categorical\",\n",
        "        'values': [\n",
        "          ### This will be a list of strings\n",
        "          ### with the following values:\n",
        "          ### N, num_layers, num_attention_heads, hidden_size, lr\n",
        "          ### separated by commas\n",
        "      ]\n",
        "    },\n",
        "  }\n",
        "}\n",
        "\n",
        "# read TG's config\n",
        "df = pd.read_csv(\n",
        "    './gpt-neox/configs/scaling_experiment/config_parameters.csv',\n",
        "    )\n",
        "\n",
        "# create strings for each row\n",
        "for i in range(len(df)):\n",
        "  row = df.iloc[i]\n",
        "  row['N'] = 12*row['n_layer']*row['n_embd']**2\n",
        "  # add LR according equation D.1 from Kaplan et. al\n",
        "  # \"Scaling Laws for Neural Language Models\"\n",
        "  row['lr'] = 0.003239 + (-0.0001395)*np.log(row['N'])\n",
        "  row.drop(['Exponent', 'head_state'], inplace=True)\n",
        "  row = row[['N', 'n_layer', 'n_head', 'n_embd', 'lr']]\n",
        "  # concatenate into a string to be split later\n",
        "  row = ','.join([str(x) for x in row])\n",
        "  sweep_config['parameters']['valid_set']['values'].append(row)"
      ],
      "execution_count": null,
      "outputs": []
    },
    {
      "cell_type": "code",
      "metadata": {
        "colab": {
          "base_uri": "https://localhost:8080/"
        },
        "id": "j1D3k39pPrp_",
        "outputId": "1524f4b8-e8a9-495e-d3ae-57e6ddf1479a"
      },
      "source": [
        "# check source\n",
        "print(df)\n",
        "\n",
        "# and config\n",
        "sweep_config"
      ],
      "execution_count": 6,
      "outputs": [
        {
          "output_type": "stream",
          "name": "stdout",
          "text": [
            "    Exponent  n_layer  n_head  n_embd  head_state\n",
            "0         11        1       1      72          72\n",
            "1         11        2       1      48          48\n",
            "2         11        2       2      48          24\n",
            "3         11        2       2      48          24\n",
            "4         11        2       2      48          24\n",
            "5         12        1       2     112          56\n",
            "6         12        2       2      88          44\n",
            "7         12        3       2      64          32\n",
            "8         13        2       4     128          32\n",
            "9         13        2       2     128          64\n",
            "10        13        2       4     128          32\n",
            "11        14        2       4     224          56\n",
            "12        14        2       7     224          32\n",
            "13        14        6       4     128          32\n",
            "14        14        2      16     256          16\n",
            "15        15        1       8     512          64\n",
            "16        15        4       8     256          32\n",
            "17        15        4       4     256          64\n",
            "18        15        3       8     256          32\n",
            "19        16        3      16     512          32\n",
            "20        16        1      16    1024          64\n",
            "21        17        2      16    1024          64\n",
            "22        17        6       8     512          64\n",
            "23        17        8       8     512          64\n",
            "24        18        2      32    1472          46\n",
            "25        18        1      32    2048          64\n",
            "26        18        6      16    1024          64\n",
            "27        18       12      15     600          40\n",
            "28        18       16       8     512          64\n",
            "29        18        8      16     704          44\n",
            "30        18       32       5     360          72\n",
            "31        18       64       4     256          64\n",
            "32        18        3      24    1152          48\n",
            "33        18        4      64    1024          16\n",
            "34        18       12       8     768          96\n",
            "35        19        3      32    2048          64\n",
            "36        19        8      16    1280          80\n",
            "37        19       12      16    1024          64\n",
            "38        19       33      16     832          52\n",
            "39        20        8      16    2048         128\n",
            "40        21        6      64    4288          67\n",
            "41        21       42      24    1536          64\n",
            "42        21       48      25    1600          64\n",
            "43        21       92       9    1152         128\n",
            "44        21      207      12     768          64\n",
            "45        21       12      48    3168          66\n"
          ]
        },
        {
          "output_type": "execute_result",
          "data": {
            "text/plain": [
              "{'method': 'grid',\n",
              " 'name': 'Scaling laws sweep',\n",
              " 'parameters': {'valid_set': {'distribution': 'categorical',\n",
              "   'values': ['62208.0,1.0,1.0,72.0,0.0016991656751490947',\n",
              "    '55296.0,2.0,1.0,48.0,0.0017155964086231603',\n",
              "    '55296.0,2.0,2.0,48.0,0.0017155964086231603',\n",
              "    '55296.0,2.0,2.0,48.0,0.0017155964086231603',\n",
              "    '55296.0,2.0,2.0,48.0,0.0017155964086231603',\n",
              "    '150528.0,1.0,2.0,112.0,0.0015758943372632425',\n",
              "    '185856.0,2.0,2.0,88.0,0.001546484519427042',\n",
              "    '147456.0,3.0,2.0,64.0,0.0015787707278280244',\n",
              "    '393216.0,2.0,4.0,128.0,0.0014419450470328887',\n",
              "    '393216.0,2.0,2.0,128.0,0.0014419450470328887',\n",
              "    '393216.0,2.0,4.0,128.0,0.0014419450470328887',\n",
              "    '1204224.0,2.0,4.0,224.0,0.0012858122421989054',\n",
              "    '1204224.0,2.0,7.0,224.0,0.0012858122421989054',\n",
              "    '1179648.0,6.0,4.0,128.0,0.0012886886327636872',\n",
              "    '1572864.0,2.0,16.0,256.0,0.001248556983656664',\n",
              "    '3145728.0,1.0,8.0,512.0,0.0011518629519685513',\n",
              "    '3145728.0,4.0,8.0,256.0,0.0011518629519685513',\n",
              "    '3145728.0,4.0,4.0,256.0,0.0011518629519685513',\n",
              "    '2359296.0,3.0,8.0,256.0,0.0011919946010755748',\n",
              "    '9437184.0,3.0,16.0,512.0,0.0009986065376993499',\n",
              "    '12582912.0,1.0,16.0,1024.0,0.0009584748885923268',\n",
              "    '25165824.0,2.0,16.0,1024.0,0.0008617808569042142',\n",
              "    '18874368.0,6.0,8.0,512.0,0.0009019125060112381',\n",
              "    '25165824.0,8.0,8.0,512.0,0.0008617808569042142',\n",
              "    '52002816.0,2.0,32.0,1472.0,0.0007605302241648804',\n",
              "    '50331648.0,1.0,32.0,2048.0,0.0007650868252161019',\n",
              "    '75497472.0,6.0,16.0,1024.0,0.0007085244426350132',\n",
              "    '51840000.0,12.0,15.0,600.0,0.0007609676709038433',\n",
              "    '50331648.0,16.0,8.0,512.0,0.0007650868252161019',\n",
              "    '47579136.0,8.0,16.0,704.0,0.0007729322659221429',\n",
              "    '49766400.0,32.0,5.0,360.0,0.0007666623391394188',\n",
              "    '50331648.0,64.0,4.0,256.0,0.0007650868252161019',\n",
              "    '47775744.0,3.0,24.0,1152.0,0.0007723570073749943',\n",
              "    '50331648.0,4.0,64.0,1024.0,0.0007650868252161019',\n",
              "    '84934656.0,12.0,8.0,768.0,0.0006920937091609474',\n",
              "    '150994944.0,3.0,32.0,2048.0,0.0006118304109469005',\n",
              "    '157286400.0,8.0,16.0,1280.0,0.000606135742711325',\n",
              "    '150994944.0,12.0,16.0,1024.0,0.0006118304109469005',\n",
              "    '274120704.0,33.0,16.0,832.0,0.0005286434665408828',\n",
              "    '402653184.0,8.0,16.0,2048.0,0.0004750047301517648',\n",
              "    '1323859968.0,6.0,64.0,4288.0,0.00030896745532983227',\n",
              "    '1189085184.0,42.0,24.0,1536.0,0.0003239452116796191',\n",
              "    '1474560000.0,48.0,25.0,1600.0,0.0002939282459373466',\n",
              "    '1465122816.0,92.0,9.0,1152.0,0.00029482391514585454',\n",
              "    '1465122816.0,207.0,12.0,768.0,0.00029482391514585454',\n",
              "    '1445216256.0,12.0,48.0,3168.0,0.00029673228964047357']}}}"
            ]
          },
          "metadata": {},
          "execution_count": 6
        }
      ]
    },
    {
      "cell_type": "code",
      "metadata": {
        "colab": {
          "base_uri": "https://localhost:8080/",
          "height": 641
        },
        "id": "Ae4Edr-jMAYk",
        "outputId": "6070a61c-1465-4223-b76c-398e8e2e5939"
      },
      "source": [
        "# test run\n",
        "sweep_id = wandb.sweep(sweep_config)\n",
        "\n",
        "def train():\n",
        "    run = wandb.init()\n",
        "    print(run.config.valid_set)\n",
        "    vars = {k:v for k,v in zip(\n",
        "        # these are from neox_arguments.md\n",
        "        ['N',\n",
        "         'num_layers',\n",
        "         'num_attention_heads',\n",
        "         'hidden_size',\n",
        "         'head_state',\n",
        "         'lr'\n",
        "         ],\n",
        "        [float(x) for x in run.config.valid_set.split(',')]\n",
        "    )}\n",
        "    print([x for x in zip(vars.keys(),vars.values())])\n",
        "    run.finish()\n",
        "\n",
        "sweep_id = wandb.sweep(sweep_config)\n",
        "agent = wandb.agent(sweep_id=sweep_id, function=train)\n",
        "agent.run()"
      ],
      "execution_count": 5,
      "outputs": [
        {
          "output_type": "stream",
          "name": "stdout",
          "text": [
            "Create sweep with ID: bufkhsip\n",
            "Sweep URL: https://wandb.ai/dontclickmebro/uncategorized/sweeps/bufkhsip\n",
            "Create sweep with ID: uw2abv80\n",
            "Sweep URL: https://wandb.ai/dontclickmebro/uncategorized/sweeps/uw2abv80\n"
          ]
        },
        {
          "output_type": "stream",
          "name": "stderr",
          "text": [
            "\u001b[34m\u001b[1mwandb\u001b[0m: Agent Starting Run: z5d83uwi with config:\n",
            "\u001b[34m\u001b[1mwandb\u001b[0m: \tvalid_set: 62208.0,1.0,1.0,72.0,0.0016991656751490947\n",
            "/usr/lib/python3.7/multiprocessing/semaphore_tracker.py:55: UserWarning: semaphore_tracker: process died unexpectedly, relaunching.  Some semaphores might leak.\n",
            "  warnings.warn('semaphore_tracker: process died unexpectedly, '\n"
          ]
        },
        {
          "output_type": "display_data",
          "data": {
            "text/html": [
              "\n",
              "                    Syncing run <strong><a href=\"https://wandb.ai/dontclickmebro/uncategorized/runs/z5d83uwi\" target=\"_blank\">ethereal-sweep-1</a></strong> to <a href=\"https://wandb.ai/dontclickmebro/uncategorized\" target=\"_blank\">Weights & Biases</a> (<a href=\"https://docs.wandb.com/integrations/jupyter.html\" target=\"_blank\">docs</a>).<br/>\n",
              "Sweep page: <a href=\"https://wandb.ai/dontclickmebro/uncategorized/sweeps/uw2abv80\" target=\"_blank\">https://wandb.ai/dontclickmebro/uncategorized/sweeps/uw2abv80</a><br/>\n",
              "\n",
              "                "
            ],
            "text/plain": [
              "<IPython.core.display.HTML object>"
            ]
          },
          "metadata": {}
        },
        {
          "output_type": "stream",
          "name": "stdout",
          "text": [
            "62208.0,1.0,1.0,72.0,0.0016991656751490947\n",
            "[('N', 62208.0), ('num_layers', 1.0), ('num_attention_heads', 1.0), ('hidden_size', 72.0), ('head_state', 0.0016991656751490947)]\n"
          ]
        },
        {
          "output_type": "display_data",
          "data": {
            "text/html": [
              "<br/>Waiting for W&B process to finish, PID 2374... <strong style=\"color:green\">(success).</strong>"
            ],
            "text/plain": [
              "<IPython.core.display.HTML object>"
            ]
          },
          "metadata": {}
        },
        {
          "output_type": "display_data",
          "data": {
            "application/vnd.jupyter.widget-view+json": {
              "model_id": "53872fca47ec454a92ca5ce253c1fea9",
              "version_minor": 0,
              "version_major": 2
            },
            "text/plain": [
              "VBox(children=(Label(value=' 0.00MB of 0.00MB uploaded (0.00MB deduped)\\r'), FloatProgress(value=1.0, max=1.0)…"
            ]
          },
          "metadata": {}
        },
        {
          "output_type": "display_data",
          "data": {
            "text/html": [
              "<style>\n",
              "    table.wandb td:nth-child(1) { padding: 0 10px; text-align: right }\n",
              "    .wandb-row { display: flex; flex-direction: row; flex-wrap: wrap; width: 100% }\n",
              "    .wandb-col { display: flex; flex-direction: column; flex-basis: 100%; flex: 1; padding: 10px; }\n",
              "    </style>\n",
              "<div class=\"wandb-row\"><div class=\"wandb-col\">\n",
              "</div><div class=\"wandb-col\">\n",
              "</div></div>\n",
              "Synced 5 W&B file(s), 0 media file(s), 0 artifact file(s) and 0 other file(s)\n",
              "<br/>Synced <strong style=\"color:#cdcd00\">ethereal-sweep-1</strong>: <a href=\"https://wandb.ai/dontclickmebro/uncategorized/runs/z5d83uwi\" target=\"_blank\">https://wandb.ai/dontclickmebro/uncategorized/runs/z5d83uwi</a><br/>\n",
              "Find logs at: <code>./wandb/run-20211013_140217-z5d83uwi/logs</code><br/>\n"
            ],
            "text/plain": [
              "<IPython.core.display.HTML object>"
            ]
          },
          "metadata": {}
        },
        {
          "output_type": "stream",
          "name": "stderr",
          "text": [
            "\u001b[34m\u001b[1mwandb\u001b[0m: Agent Starting Run: 0gzalme6 with config:\n",
            "\u001b[34m\u001b[1mwandb\u001b[0m: \tvalid_set: 55296.0,2.0,1.0,48.0,0.0017155964086231603\n"
          ]
        },
        {
          "output_type": "display_data",
          "data": {
            "text/html": [
              "\n",
              "                    Syncing run <strong><a href=\"https://wandb.ai/dontclickmebro/uncategorized/runs/0gzalme6\" target=\"_blank\">rich-sweep-2</a></strong> to <a href=\"https://wandb.ai/dontclickmebro/uncategorized\" target=\"_blank\">Weights & Biases</a> (<a href=\"https://docs.wandb.com/integrations/jupyter.html\" target=\"_blank\">docs</a>).<br/>\n",
              "Sweep page: <a href=\"https://wandb.ai/dontclickmebro/uncategorized/sweeps/uw2abv80\" target=\"_blank\">https://wandb.ai/dontclickmebro/uncategorized/sweeps/uw2abv80</a><br/>\n",
              "\n",
              "                "
            ],
            "text/plain": [
              "<IPython.core.display.HTML object>"
            ]
          },
          "metadata": {}
        },
        {
          "output_type": "stream",
          "name": "stderr",
          "text": [
            "\u001b[34m\u001b[1mwandb\u001b[0m: Ctrl + C detected. Stopping sweep.\n",
            "Unhandled exception in thread started by <bound method Thread._bootstrap of <Thread(Thread-28, initial daemon)>>\n"
          ]
        },
        {
          "output_type": "error",
          "ename": "AttributeError",
          "evalue": "ignored",
          "traceback": [
            "\u001b[0;31m---------------------------------------------------------------------------\u001b[0m",
            "\u001b[0;31mAttributeError\u001b[0m                            Traceback (most recent call last)",
            "\u001b[0;32m<ipython-input-5-383aaa9d7482>\u001b[0m in \u001b[0;36m<module>\u001b[0;34m()\u001b[0m\n\u001b[1;32m     21\u001b[0m \u001b[0msweep_id\u001b[0m \u001b[0;34m=\u001b[0m \u001b[0mwandb\u001b[0m\u001b[0;34m.\u001b[0m\u001b[0msweep\u001b[0m\u001b[0;34m(\u001b[0m\u001b[0msweep_config\u001b[0m\u001b[0;34m)\u001b[0m\u001b[0;34m\u001b[0m\u001b[0;34m\u001b[0m\u001b[0m\n\u001b[1;32m     22\u001b[0m \u001b[0magent\u001b[0m \u001b[0;34m=\u001b[0m \u001b[0mwandb\u001b[0m\u001b[0;34m.\u001b[0m\u001b[0magent\u001b[0m\u001b[0;34m(\u001b[0m\u001b[0msweep_id\u001b[0m\u001b[0;34m=\u001b[0m\u001b[0msweep_id\u001b[0m\u001b[0;34m,\u001b[0m \u001b[0mfunction\u001b[0m\u001b[0;34m=\u001b[0m\u001b[0mtrain\u001b[0m\u001b[0;34m)\u001b[0m\u001b[0;34m\u001b[0m\u001b[0;34m\u001b[0m\u001b[0m\n\u001b[0;32m---> 23\u001b[0;31m \u001b[0magent\u001b[0m\u001b[0;34m.\u001b[0m\u001b[0mrun\u001b[0m\u001b[0;34m(\u001b[0m\u001b[0;34m)\u001b[0m\u001b[0;34m\u001b[0m\u001b[0;34m\u001b[0m\u001b[0m\n\u001b[0m",
            "\u001b[0;31mAttributeError\u001b[0m: 'NoneType' object has no attribute 'run'"
          ]
        }
      ]
    }
  ]
}